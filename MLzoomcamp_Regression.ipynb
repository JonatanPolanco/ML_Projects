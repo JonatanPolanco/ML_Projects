{
  "nbformat": 4,
  "nbformat_minor": 0,
  "metadata": {
    "colab": {
      "name": "MLzoomcamp_Regression.ipynb",
      "provenance": [],
      "collapsed_sections": [
        "gOWjlZ9a5Rj_",
        "XsPpMoyu9PBr",
        "iiQYQjyr_y3x",
        "PkhyWMC5DejW"
      ],
      "authorship_tag": "ABX9TyOQ2juCqri23b+PteXk8Yon",
      "include_colab_link": true
    },
    "kernelspec": {
      "name": "python3",
      "display_name": "Python 3"
    },
    "language_info": {
      "name": "python"
    }
  },
  "cells": [
    {
      "cell_type": "markdown",
      "metadata": {
        "id": "view-in-github",
        "colab_type": "text"
      },
      "source": [
        "<a href=\"https://colab.research.google.com/github/JonatanPolanco/ML_Projects/blob/main/MLzoomcamp_Regression.ipynb\" target=\"_parent\"><img src=\"https://colab.research.google.com/assets/colab-badge.svg\" alt=\"Open In Colab\"/></a>"
      ]
    },
    {
      "cell_type": "code",
      "metadata": {
        "id": "IFeZngmN5ttG"
      },
      "source": [
        "import numpy as np\n",
        "import pandas as pd"
      ],
      "execution_count": 5,
      "outputs": []
    },
    {
      "cell_type": "markdown",
      "metadata": {
        "id": "gOWjlZ9a5Rj_"
      },
      "source": [
        "#**Data Preparation** ✅"
      ]
    },
    {
      "cell_type": "code",
      "metadata": {
        "id": "RCvM5qGa5T9X"
      },
      "source": [
        "data = 'https://raw.githubusercontent.com/alexeygrigorev/mlbookcamp-code/master/chapter-02-car-price/data.csv'"
      ],
      "execution_count": 2,
      "outputs": []
    },
    {
      "cell_type": "code",
      "metadata": {
        "colab": {
          "base_uri": "https://localhost:8080/"
        },
        "id": "L6BfJSDf5UA4",
        "outputId": "3cea3380-cfd1-49e0-aef8-81bcadbd88d1"
      },
      "source": [
        "!wget $data"
      ],
      "execution_count": 3,
      "outputs": [
        {
          "output_type": "stream",
          "name": "stdout",
          "text": [
            "--2021-11-30 03:33:52--  https://raw.githubusercontent.com/alexeygrigorev/mlbookcamp-code/master/chapter-02-car-price/data.csv\n",
            "Resolving raw.githubusercontent.com (raw.githubusercontent.com)... 185.199.110.133, 185.199.111.133, 185.199.109.133, ...\n",
            "Connecting to raw.githubusercontent.com (raw.githubusercontent.com)|185.199.110.133|:443... connected.\n",
            "HTTP request sent, awaiting response... 200 OK\n",
            "Length: 1475504 (1.4M) [text/plain]\n",
            "Saving to: ‘data.csv’\n",
            "\n",
            "data.csv            100%[===================>]   1.41M  --.-KB/s    in 0.06s   \n",
            "\n",
            "2021-11-30 03:33:52 (24.9 MB/s) - ‘data.csv’ saved [1475504/1475504]\n",
            "\n"
          ]
        }
      ]
    },
    {
      "cell_type": "code",
      "metadata": {
        "id": "LN-t-iih6B5W"
      },
      "source": [
        "df = pd.read_csv(data)"
      ],
      "execution_count": 11,
      "outputs": []
    },
    {
      "cell_type": "code",
      "metadata": {
        "id": "PLmXHnvQ64u9"
      },
      "source": [
        "df.columns = df.columns.str.lower().str.replace(' ', '_')"
      ],
      "execution_count": 15,
      "outputs": []
    },
    {
      "cell_type": "code",
      "metadata": {
        "colab": {
          "base_uri": "https://localhost:8080/",
          "height": 330
        },
        "id": "l_FtWmX76zgO",
        "outputId": "df9f6e45-37de-4b48-b052-41d361be6d75"
      },
      "source": [
        "df.head()"
      ],
      "execution_count": 16,
      "outputs": [
        {
          "output_type": "execute_result",
          "data": {
            "text/html": [
              "<div>\n",
              "<style scoped>\n",
              "    .dataframe tbody tr th:only-of-type {\n",
              "        vertical-align: middle;\n",
              "    }\n",
              "\n",
              "    .dataframe tbody tr th {\n",
              "        vertical-align: top;\n",
              "    }\n",
              "\n",
              "    .dataframe thead th {\n",
              "        text-align: right;\n",
              "    }\n",
              "</style>\n",
              "<table border=\"1\" class=\"dataframe\">\n",
              "  <thead>\n",
              "    <tr style=\"text-align: right;\">\n",
              "      <th></th>\n",
              "      <th>make</th>\n",
              "      <th>model</th>\n",
              "      <th>year</th>\n",
              "      <th>engine_fuel_type</th>\n",
              "      <th>engine_hp</th>\n",
              "      <th>engine_cylinders</th>\n",
              "      <th>transmission_type</th>\n",
              "      <th>driven_wheels</th>\n",
              "      <th>number_of_doors</th>\n",
              "      <th>market_category</th>\n",
              "      <th>vehicle_size</th>\n",
              "      <th>vehicle_style</th>\n",
              "      <th>highway_mpg</th>\n",
              "      <th>city_mpg</th>\n",
              "      <th>popularity</th>\n",
              "      <th>msrp</th>\n",
              "    </tr>\n",
              "  </thead>\n",
              "  <tbody>\n",
              "    <tr>\n",
              "      <th>0</th>\n",
              "      <td>BMW</td>\n",
              "      <td>1 Series M</td>\n",
              "      <td>2011</td>\n",
              "      <td>premium unleaded (required)</td>\n",
              "      <td>335.0</td>\n",
              "      <td>6.0</td>\n",
              "      <td>MANUAL</td>\n",
              "      <td>rear wheel drive</td>\n",
              "      <td>2.0</td>\n",
              "      <td>Factory Tuner,Luxury,High-Performance</td>\n",
              "      <td>Compact</td>\n",
              "      <td>Coupe</td>\n",
              "      <td>26</td>\n",
              "      <td>19</td>\n",
              "      <td>3916</td>\n",
              "      <td>46135</td>\n",
              "    </tr>\n",
              "    <tr>\n",
              "      <th>1</th>\n",
              "      <td>BMW</td>\n",
              "      <td>1 Series</td>\n",
              "      <td>2011</td>\n",
              "      <td>premium unleaded (required)</td>\n",
              "      <td>300.0</td>\n",
              "      <td>6.0</td>\n",
              "      <td>MANUAL</td>\n",
              "      <td>rear wheel drive</td>\n",
              "      <td>2.0</td>\n",
              "      <td>Luxury,Performance</td>\n",
              "      <td>Compact</td>\n",
              "      <td>Convertible</td>\n",
              "      <td>28</td>\n",
              "      <td>19</td>\n",
              "      <td>3916</td>\n",
              "      <td>40650</td>\n",
              "    </tr>\n",
              "    <tr>\n",
              "      <th>2</th>\n",
              "      <td>BMW</td>\n",
              "      <td>1 Series</td>\n",
              "      <td>2011</td>\n",
              "      <td>premium unleaded (required)</td>\n",
              "      <td>300.0</td>\n",
              "      <td>6.0</td>\n",
              "      <td>MANUAL</td>\n",
              "      <td>rear wheel drive</td>\n",
              "      <td>2.0</td>\n",
              "      <td>Luxury,High-Performance</td>\n",
              "      <td>Compact</td>\n",
              "      <td>Coupe</td>\n",
              "      <td>28</td>\n",
              "      <td>20</td>\n",
              "      <td>3916</td>\n",
              "      <td>36350</td>\n",
              "    </tr>\n",
              "    <tr>\n",
              "      <th>3</th>\n",
              "      <td>BMW</td>\n",
              "      <td>1 Series</td>\n",
              "      <td>2011</td>\n",
              "      <td>premium unleaded (required)</td>\n",
              "      <td>230.0</td>\n",
              "      <td>6.0</td>\n",
              "      <td>MANUAL</td>\n",
              "      <td>rear wheel drive</td>\n",
              "      <td>2.0</td>\n",
              "      <td>Luxury,Performance</td>\n",
              "      <td>Compact</td>\n",
              "      <td>Coupe</td>\n",
              "      <td>28</td>\n",
              "      <td>18</td>\n",
              "      <td>3916</td>\n",
              "      <td>29450</td>\n",
              "    </tr>\n",
              "    <tr>\n",
              "      <th>4</th>\n",
              "      <td>BMW</td>\n",
              "      <td>1 Series</td>\n",
              "      <td>2011</td>\n",
              "      <td>premium unleaded (required)</td>\n",
              "      <td>230.0</td>\n",
              "      <td>6.0</td>\n",
              "      <td>MANUAL</td>\n",
              "      <td>rear wheel drive</td>\n",
              "      <td>2.0</td>\n",
              "      <td>Luxury</td>\n",
              "      <td>Compact</td>\n",
              "      <td>Convertible</td>\n",
              "      <td>28</td>\n",
              "      <td>18</td>\n",
              "      <td>3916</td>\n",
              "      <td>34500</td>\n",
              "    </tr>\n",
              "  </tbody>\n",
              "</table>\n",
              "</div>"
            ],
            "text/plain": [
              "  make       model  year  ... city_mpg  popularity   msrp\n",
              "0  BMW  1 Series M  2011  ...       19        3916  46135\n",
              "1  BMW    1 Series  2011  ...       19        3916  40650\n",
              "2  BMW    1 Series  2011  ...       20        3916  36350\n",
              "3  BMW    1 Series  2011  ...       18        3916  29450\n",
              "4  BMW    1 Series  2011  ...       18        3916  34500\n",
              "\n",
              "[5 rows x 16 columns]"
            ]
          },
          "metadata": {},
          "execution_count": 16
        }
      ]
    },
    {
      "cell_type": "code",
      "metadata": {
        "colab": {
          "base_uri": "https://localhost:8080/"
        },
        "id": "7-TV0HnO7nPz",
        "outputId": "faca6386-0d4e-458a-81e0-2b6c451aa5ac"
      },
      "source": [
        "strings = list(df.dtypes[df.dtypes == 'object'].index)\n",
        "strings"
      ],
      "execution_count": 23,
      "outputs": [
        {
          "output_type": "execute_result",
          "data": {
            "text/plain": [
              "['make',\n",
              " 'model',\n",
              " 'engine_fuel_type',\n",
              " 'transmission_type',\n",
              " 'driven_wheels',\n",
              " 'market_category',\n",
              " 'vehicle_size',\n",
              " 'vehicle_style']"
            ]
          },
          "metadata": {},
          "execution_count": 23
        }
      ]
    },
    {
      "cell_type": "code",
      "metadata": {
        "id": "rkeu9C5T8gQt"
      },
      "source": [
        "for col in strings:\n",
        "  df[col] = df[col].str.lower().str.replace(' ', '_')"
      ],
      "execution_count": 24,
      "outputs": []
    },
    {
      "cell_type": "code",
      "metadata": {
        "colab": {
          "base_uri": "https://localhost:8080/",
          "height": 243
        },
        "id": "UlEOmB5B88m8",
        "outputId": "daf36219-b0b2-4d78-a42d-e59c514cf6de"
      },
      "source": [
        "df.head()"
      ],
      "execution_count": 25,
      "outputs": [
        {
          "output_type": "execute_result",
          "data": {
            "text/html": [
              "<div>\n",
              "<style scoped>\n",
              "    .dataframe tbody tr th:only-of-type {\n",
              "        vertical-align: middle;\n",
              "    }\n",
              "\n",
              "    .dataframe tbody tr th {\n",
              "        vertical-align: top;\n",
              "    }\n",
              "\n",
              "    .dataframe thead th {\n",
              "        text-align: right;\n",
              "    }\n",
              "</style>\n",
              "<table border=\"1\" class=\"dataframe\">\n",
              "  <thead>\n",
              "    <tr style=\"text-align: right;\">\n",
              "      <th></th>\n",
              "      <th>make</th>\n",
              "      <th>model</th>\n",
              "      <th>year</th>\n",
              "      <th>engine_fuel_type</th>\n",
              "      <th>engine_hp</th>\n",
              "      <th>engine_cylinders</th>\n",
              "      <th>transmission_type</th>\n",
              "      <th>driven_wheels</th>\n",
              "      <th>number_of_doors</th>\n",
              "      <th>market_category</th>\n",
              "      <th>vehicle_size</th>\n",
              "      <th>vehicle_style</th>\n",
              "      <th>highway_mpg</th>\n",
              "      <th>city_mpg</th>\n",
              "      <th>popularity</th>\n",
              "      <th>msrp</th>\n",
              "    </tr>\n",
              "  </thead>\n",
              "  <tbody>\n",
              "    <tr>\n",
              "      <th>0</th>\n",
              "      <td>bmw</td>\n",
              "      <td>1_series_m</td>\n",
              "      <td>2011</td>\n",
              "      <td>premium_unleaded_(required)</td>\n",
              "      <td>335.0</td>\n",
              "      <td>6.0</td>\n",
              "      <td>manual</td>\n",
              "      <td>rear_wheel_drive</td>\n",
              "      <td>2.0</td>\n",
              "      <td>factory_tuner,luxury,high-performance</td>\n",
              "      <td>compact</td>\n",
              "      <td>coupe</td>\n",
              "      <td>26</td>\n",
              "      <td>19</td>\n",
              "      <td>3916</td>\n",
              "      <td>46135</td>\n",
              "    </tr>\n",
              "    <tr>\n",
              "      <th>1</th>\n",
              "      <td>bmw</td>\n",
              "      <td>1_series</td>\n",
              "      <td>2011</td>\n",
              "      <td>premium_unleaded_(required)</td>\n",
              "      <td>300.0</td>\n",
              "      <td>6.0</td>\n",
              "      <td>manual</td>\n",
              "      <td>rear_wheel_drive</td>\n",
              "      <td>2.0</td>\n",
              "      <td>luxury,performance</td>\n",
              "      <td>compact</td>\n",
              "      <td>convertible</td>\n",
              "      <td>28</td>\n",
              "      <td>19</td>\n",
              "      <td>3916</td>\n",
              "      <td>40650</td>\n",
              "    </tr>\n",
              "    <tr>\n",
              "      <th>2</th>\n",
              "      <td>bmw</td>\n",
              "      <td>1_series</td>\n",
              "      <td>2011</td>\n",
              "      <td>premium_unleaded_(required)</td>\n",
              "      <td>300.0</td>\n",
              "      <td>6.0</td>\n",
              "      <td>manual</td>\n",
              "      <td>rear_wheel_drive</td>\n",
              "      <td>2.0</td>\n",
              "      <td>luxury,high-performance</td>\n",
              "      <td>compact</td>\n",
              "      <td>coupe</td>\n",
              "      <td>28</td>\n",
              "      <td>20</td>\n",
              "      <td>3916</td>\n",
              "      <td>36350</td>\n",
              "    </tr>\n",
              "    <tr>\n",
              "      <th>3</th>\n",
              "      <td>bmw</td>\n",
              "      <td>1_series</td>\n",
              "      <td>2011</td>\n",
              "      <td>premium_unleaded_(required)</td>\n",
              "      <td>230.0</td>\n",
              "      <td>6.0</td>\n",
              "      <td>manual</td>\n",
              "      <td>rear_wheel_drive</td>\n",
              "      <td>2.0</td>\n",
              "      <td>luxury,performance</td>\n",
              "      <td>compact</td>\n",
              "      <td>coupe</td>\n",
              "      <td>28</td>\n",
              "      <td>18</td>\n",
              "      <td>3916</td>\n",
              "      <td>29450</td>\n",
              "    </tr>\n",
              "    <tr>\n",
              "      <th>4</th>\n",
              "      <td>bmw</td>\n",
              "      <td>1_series</td>\n",
              "      <td>2011</td>\n",
              "      <td>premium_unleaded_(required)</td>\n",
              "      <td>230.0</td>\n",
              "      <td>6.0</td>\n",
              "      <td>manual</td>\n",
              "      <td>rear_wheel_drive</td>\n",
              "      <td>2.0</td>\n",
              "      <td>luxury</td>\n",
              "      <td>compact</td>\n",
              "      <td>convertible</td>\n",
              "      <td>28</td>\n",
              "      <td>18</td>\n",
              "      <td>3916</td>\n",
              "      <td>34500</td>\n",
              "    </tr>\n",
              "  </tbody>\n",
              "</table>\n",
              "</div>"
            ],
            "text/plain": [
              "  make       model  year  ... city_mpg  popularity   msrp\n",
              "0  bmw  1_series_m  2011  ...       19        3916  46135\n",
              "1  bmw    1_series  2011  ...       19        3916  40650\n",
              "2  bmw    1_series  2011  ...       20        3916  36350\n",
              "3  bmw    1_series  2011  ...       18        3916  29450\n",
              "4  bmw    1_series  2011  ...       18        3916  34500\n",
              "\n",
              "[5 rows x 16 columns]"
            ]
          },
          "metadata": {},
          "execution_count": 25
        }
      ]
    },
    {
      "cell_type": "markdown",
      "metadata": {
        "id": "XsPpMoyu9PBr"
      },
      "source": [
        "#**Exploratory data analysis** ✅\n",
        "\n",
        "\n",
        "\n"
      ]
    },
    {
      "cell_type": "code",
      "metadata": {
        "colab": {
          "base_uri": "https://localhost:8080/"
        },
        "id": "0V7SnTLB9R8Q",
        "outputId": "c0d5f52b-17fc-4bf8-e102-9487b451c58b"
      },
      "source": [
        "for col in df.columns:\n",
        "  print(col)\n",
        "  print(df[col].unique()[:5])\n",
        "  print(df[col].nunique())\n",
        "  print()"
      ],
      "execution_count": 29,
      "outputs": [
        {
          "output_type": "stream",
          "name": "stdout",
          "text": [
            "make\n",
            "['bmw' 'audi' 'fiat' 'mercedes-benz' 'chrysler']\n",
            "48\n",
            "\n",
            "model\n",
            "['1_series_m' '1_series' '100' '124_spider' '190-class']\n",
            "914\n",
            "\n",
            "year\n",
            "[2011 2012 2013 1992 1993]\n",
            "28\n",
            "\n",
            "engine_fuel_type\n",
            "['premium_unleaded_(required)' 'regular_unleaded'\n",
            " 'premium_unleaded_(recommended)' 'flex-fuel_(unleaded/e85)' 'diesel']\n",
            "10\n",
            "\n",
            "engine_hp\n",
            "[335. 300. 230. 320. 172.]\n",
            "356\n",
            "\n",
            "engine_cylinders\n",
            "[ 6.  4.  5.  8. 12.]\n",
            "9\n",
            "\n",
            "transmission_type\n",
            "['manual' 'automatic' 'automated_manual' 'direct_drive' 'unknown']\n",
            "5\n",
            "\n",
            "driven_wheels\n",
            "['rear_wheel_drive' 'front_wheel_drive' 'all_wheel_drive'\n",
            " 'four_wheel_drive']\n",
            "4\n",
            "\n",
            "number_of_doors\n",
            "[ 2.  4.  3. nan]\n",
            "3\n",
            "\n",
            "market_category\n",
            "['factory_tuner,luxury,high-performance' 'luxury,performance'\n",
            " 'luxury,high-performance' 'luxury' 'performance']\n",
            "71\n",
            "\n",
            "vehicle_size\n",
            "['compact' 'midsize' 'large']\n",
            "3\n",
            "\n",
            "vehicle_style\n",
            "['coupe' 'convertible' 'sedan' 'wagon' '4dr_hatchback']\n",
            "16\n",
            "\n",
            "highway_mpg\n",
            "[26 28 27 25 24]\n",
            "59\n",
            "\n",
            "city_mpg\n",
            "[19 20 18 17 16]\n",
            "69\n",
            "\n",
            "popularity\n",
            "[3916 3105  819  617 1013]\n",
            "48\n",
            "\n",
            "msrp\n",
            "[46135 40650 36350 29450 34500]\n",
            "6049\n",
            "\n"
          ]
        }
      ]
    },
    {
      "cell_type": "markdown",
      "metadata": {
        "id": "iiQYQjyr_y3x"
      },
      "source": [
        "###Distribution of price"
      ]
    },
    {
      "cell_type": "code",
      "metadata": {
        "id": "Ph-bgcln_wi-"
      },
      "source": [
        "import matplotlib.pyplot as plt\n",
        "import seaborn as sns\n",
        "\n",
        "%matplotlib inline"
      ],
      "execution_count": 30,
      "outputs": []
    },
    {
      "cell_type": "code",
      "metadata": {
        "colab": {
          "base_uri": "https://localhost:8080/",
          "height": 296
        },
        "id": "f3wzVuaAAEKl",
        "outputId": "d1473198-1e7e-4c13-b506-274e12852553"
      },
      "source": [
        "sns.histplot(df.msrp[df.msrp < 100000], bins=50)  #Long tail distribution (Not good for ML). So, we need to apply another distribution"
      ],
      "execution_count": 35,
      "outputs": [
        {
          "output_type": "execute_result",
          "data": {
            "text/plain": [
              "<matplotlib.axes._subplots.AxesSubplot at 0x7f332764a850>"
            ]
          },
          "metadata": {},
          "execution_count": 35
        },
        {
          "output_type": "display_data",
          "data": {
            "image/png": "[encoded data removed]",
            "text/plain": [
              "<Figure size 432x288 with 1 Axes>"
            ]
          },
          "metadata": {
            "needs_background": "light"
          }
        }
      ]
    },
    {
      "cell_type": "code",
      "metadata": {
        "colab": {
          "base_uri": "https://localhost:8080/"
        },
        "id": "RQKXyJcZBNnO",
        "outputId": "83b468ce-b9be-4eb2-edb4-d0db5faa1d7c"
      },
      "source": [
        "#Logaritmic distribution\n",
        "np.log1p([0 , 10, 1000, 100000]) #Log of 0 doesn´t exist so we use log1p which adds 1 to all values"
      ],
      "execution_count": 36,
      "outputs": [
        {
          "output_type": "execute_result",
          "data": {
            "text/plain": [
              "array([ 0.        ,  2.39789527,  6.90875478, 11.51293546])"
            ]
          },
          "metadata": {},
          "execution_count": 36
        }
      ]
    },
    {
      "cell_type": "code",
      "metadata": {
        "id": "loKh4rKeCh13"
      },
      "source": [
        "price_logs = np.log1p(df.msrp)"
      ],
      "execution_count": 37,
      "outputs": []
    },
    {
      "cell_type": "code",
      "metadata": {
        "colab": {
          "base_uri": "https://localhost:8080/"
        },
        "id": "QgzgSqPHCojv",
        "outputId": "8261320f-c633-4f0a-e57d-57172e150283"
      },
      "source": [
        "price_logs"
      ],
      "execution_count": 38,
      "outputs": [
        {
          "output_type": "execute_result",
          "data": {
            "text/plain": [
              "0        10.739349\n",
              "1        10.612779\n",
              "2        10.500977\n",
              "3        10.290483\n",
              "4        10.448744\n",
              "           ...    \n",
              "11909    10.739024\n",
              "11910    10.945018\n",
              "11911    10.832122\n",
              "11912    10.838031\n",
              "11913    10.274913\n",
              "Name: msrp, Length: 11914, dtype: float64"
            ]
          },
          "metadata": {},
          "execution_count": 38
        }
      ]
    },
    {
      "cell_type": "code",
      "metadata": {
        "colab": {
          "base_uri": "https://localhost:8080/",
          "height": 296
        },
        "id": "g-LjO06yCuQl",
        "outputId": "e2e9e794-3209-4867-ebcf-1f8307ae376d"
      },
      "source": [
        "sns.histplot(price_logs, bins=50) #Looks like normal distribution (ideal to models)"
      ],
      "execution_count": 39,
      "outputs": [
        {
          "output_type": "execute_result",
          "data": {
            "text/plain": [
              "<matplotlib.axes._subplots.AxesSubplot at 0x7f3324ceb590>"
            ]
          },
          "metadata": {},
          "execution_count": 39
        },
        {
          "output_type": "display_data",
          "data": {
            "image/png": "[encoded data removed]",
            "text/plain": [
              "<Figure size 432x288 with 1 Axes>"
            ]
          },
          "metadata": {
            "needs_background": "light"
          }
        }
      ]
    },
    {
      "cell_type": "markdown",
      "metadata": {
        "id": "PkhyWMC5DejW"
      },
      "source": [
        "###Missing values (nan)"
      ]
    },
    {
      "cell_type": "code",
      "metadata": {
        "colab": {
          "base_uri": "https://localhost:8080/"
        },
        "id": "I0nxULF_Dg0k",
        "outputId": "f53db9cc-0ac8-40b4-c235-b3a683b58c6b"
      },
      "source": [
        "df.isnull().sum()"
      ],
      "execution_count": 42,
      "outputs": [
        {
          "output_type": "execute_result",
          "data": {
            "text/plain": [
              "make                    0\n",
              "model                   0\n",
              "year                    0\n",
              "engine_fuel_type        3\n",
              "engine_hp              69\n",
              "engine_cylinders       30\n",
              "transmission_type       0\n",
              "driven_wheels           0\n",
              "number_of_doors         6\n",
              "market_category      3742\n",
              "vehicle_size            0\n",
              "vehicle_style           0\n",
              "highway_mpg             0\n",
              "city_mpg                0\n",
              "popularity              0\n",
              "msrp                    0\n",
              "dtype: int64"
            ]
          },
          "metadata": {},
          "execution_count": 42
        }
      ]
    },
    {
      "cell_type": "markdown",
      "metadata": {
        "id": "C953o7OMFtB7"
      },
      "source": [
        "#**Setting up the validation framework**\n",
        "![Screenshot 2021-11-29 232121.png](data:image/png;base64,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)"
      ]
    },
    {
      "cell_type": "code",
      "metadata": {
        "id": "6C5sBE23F65S"
      },
      "source": [
        "n = len(df)\n",
        "n_val = int(len(df) * 0.2)\n",
        "n_test = int(len(df) * 0.2)\n",
        "n_train = n - n_val - n_test # 60% of df"
      ],
      "execution_count": 50,
      "outputs": []
    },
    {
      "cell_type": "code",
      "metadata": {
        "colab": {
          "base_uri": "https://localhost:8080/"
        },
        "id": "qpKrOqzREIY-",
        "outputId": "8bd8614f-3cfd-4365-98a1-295d2526f726"
      },
      "source": [
        "n_train, n_val, n_test"
      ],
      "execution_count": 58,
      "outputs": [
        {
          "output_type": "execute_result",
          "data": {
            "text/plain": [
              "(7150, 2382, 2382)"
            ]
          },
          "metadata": {},
          "execution_count": 58
        }
      ]
    },
    {
      "cell_type": "code",
      "metadata": {
        "colab": {
          "base_uri": "https://localhost:8080/"
        },
        "id": "Lyeh__h1HZm3",
        "outputId": "992a606d-3c16-4ec1-ef07-03494d87d8c0"
      },
      "source": [
        "n, n_val + n_test + n_train"
      ],
      "execution_count": 57,
      "outputs": [
        {
          "output_type": "execute_result",
          "data": {
            "text/plain": [
              "(11914, 11914)"
            ]
          },
          "metadata": {},
          "execution_count": 57
        }
      ]
    },
    {
      "cell_type": "code",
      "metadata": {
        "id": "4elWJZptIyj4"
      },
      "source": [
        "#We need to shuffle the data to get diferent values in train, test and val df's\n",
        "np.random.seed(2)\n",
        "idx = np.arange(n)\n",
        "np.random.shuffle(idx)"
      ],
      "execution_count": 72,
      "outputs": []
    },
    {
      "cell_type": "code",
      "metadata": {
        "id": "YJa11KedHiuX"
      },
      "source": [
        "df_train = df.iloc[idx[:n_train]]\n",
        "df_val = df.iloc[idx[n_train:n_train+n_val]]\n",
        "df_test = df.iloc[idx[n_train+n_val:]]"
      ],
      "execution_count": 83,
      "outputs": []
    },
    {
      "cell_type": "code",
      "metadata": {
        "colab": {
          "base_uri": "https://localhost:8080/",
          "height": 443
        },
        "id": "3MT8YxJeIh3r",
        "outputId": "11810d3f-f6b3-424b-cb61-4127dc797eb1"
      },
      "source": [
        "df_train"
      ],
      "execution_count": 84,
      "outputs": [
        {
          "output_type": "execute_result",
          "data": {
            "text/html": [
              "<div>\n",
              "<style scoped>\n",
              "    .dataframe tbody tr th:only-of-type {\n",
              "        vertical-align: middle;\n",
              "    }\n",
              "\n",
              "    .dataframe tbody tr th {\n",
              "        vertical-align: top;\n",
              "    }\n",
              "\n",
              "    .dataframe thead th {\n",
              "        text-align: right;\n",
              "    }\n",
              "</style>\n",
              "<table border=\"1\" class=\"dataframe\">\n",
              "  <thead>\n",
              "    <tr style=\"text-align: right;\">\n",
              "      <th></th>\n",
              "      <th>make</th>\n",
              "      <th>model</th>\n",
              "      <th>year</th>\n",
              "      <th>engine_fuel_type</th>\n",
              "      <th>engine_hp</th>\n",
              "      <th>engine_cylinders</th>\n",
              "      <th>transmission_type</th>\n",
              "      <th>driven_wheels</th>\n",
              "      <th>number_of_doors</th>\n",
              "      <th>market_category</th>\n",
              "      <th>vehicle_size</th>\n",
              "      <th>vehicle_style</th>\n",
              "      <th>highway_mpg</th>\n",
              "      <th>city_mpg</th>\n",
              "      <th>popularity</th>\n",
              "      <th>msrp</th>\n",
              "    </tr>\n",
              "  </thead>\n",
              "  <tbody>\n",
              "    <tr>\n",
              "      <th>2735</th>\n",
              "      <td>chevrolet</td>\n",
              "      <td>cobalt</td>\n",
              "      <td>2008</td>\n",
              "      <td>regular_unleaded</td>\n",
              "      <td>148.0</td>\n",
              "      <td>4.0</td>\n",
              "      <td>manual</td>\n",
              "      <td>front_wheel_drive</td>\n",
              "      <td>2.0</td>\n",
              "      <td>NaN</td>\n",
              "      <td>compact</td>\n",
              "      <td>coupe</td>\n",
              "      <td>33</td>\n",
              "      <td>24</td>\n",
              "      <td>1385</td>\n",
              "      <td>14410</td>\n",
              "    </tr>\n",
              "    <tr>\n",
              "      <th>6720</th>\n",
              "      <td>toyota</td>\n",
              "      <td>matrix</td>\n",
              "      <td>2012</td>\n",
              "      <td>regular_unleaded</td>\n",
              "      <td>132.0</td>\n",
              "      <td>4.0</td>\n",
              "      <td>automatic</td>\n",
              "      <td>front_wheel_drive</td>\n",
              "      <td>4.0</td>\n",
              "      <td>hatchback</td>\n",
              "      <td>compact</td>\n",
              "      <td>4dr_hatchback</td>\n",
              "      <td>32</td>\n",
              "      <td>25</td>\n",
              "      <td>2031</td>\n",
              "      <td>19685</td>\n",
              "    </tr>\n",
              "    <tr>\n",
              "      <th>5878</th>\n",
              "      <td>subaru</td>\n",
              "      <td>impreza</td>\n",
              "      <td>2016</td>\n",
              "      <td>regular_unleaded</td>\n",
              "      <td>148.0</td>\n",
              "      <td>4.0</td>\n",
              "      <td>automatic</td>\n",
              "      <td>all_wheel_drive</td>\n",
              "      <td>4.0</td>\n",
              "      <td>hatchback</td>\n",
              "      <td>compact</td>\n",
              "      <td>4dr_hatchback</td>\n",
              "      <td>37</td>\n",
              "      <td>28</td>\n",
              "      <td>640</td>\n",
              "      <td>19795</td>\n",
              "    </tr>\n",
              "    <tr>\n",
              "      <th>11190</th>\n",
              "      <td>volkswagen</td>\n",
              "      <td>vanagon</td>\n",
              "      <td>1991</td>\n",
              "      <td>regular_unleaded</td>\n",
              "      <td>90.0</td>\n",
              "      <td>4.0</td>\n",
              "      <td>manual</td>\n",
              "      <td>rear_wheel_drive</td>\n",
              "      <td>3.0</td>\n",
              "      <td>NaN</td>\n",
              "      <td>large</td>\n",
              "      <td>passenger_minivan</td>\n",
              "      <td>18</td>\n",
              "      <td>16</td>\n",
              "      <td>873</td>\n",
              "      <td>2000</td>\n",
              "    </tr>\n",
              "    <tr>\n",
              "      <th>4554</th>\n",
              "      <td>ford</td>\n",
              "      <td>f-150</td>\n",
              "      <td>2017</td>\n",
              "      <td>flex-fuel_(unleaded/e85)</td>\n",
              "      <td>385.0</td>\n",
              "      <td>8.0</td>\n",
              "      <td>automatic</td>\n",
              "      <td>four_wheel_drive</td>\n",
              "      <td>4.0</td>\n",
              "      <td>flex_fuel</td>\n",
              "      <td>large</td>\n",
              "      <td>crew_cab_pickup</td>\n",
              "      <td>21</td>\n",
              "      <td>15</td>\n",
              "      <td>5657</td>\n",
              "      <td>56260</td>\n",
              "    </tr>\n",
              "    <tr>\n",
              "      <th>...</th>\n",
              "      <td>...</td>\n",
              "      <td>...</td>\n",
              "      <td>...</td>\n",
              "      <td>...</td>\n",
              "      <td>...</td>\n",
              "      <td>...</td>\n",
              "      <td>...</td>\n",
              "      <td>...</td>\n",
              "      <td>...</td>\n",
              "      <td>...</td>\n",
              "      <td>...</td>\n",
              "      <td>...</td>\n",
              "      <td>...</td>\n",
              "      <td>...</td>\n",
              "      <td>...</td>\n",
              "      <td>...</td>\n",
              "    </tr>\n",
              "    <tr>\n",
              "      <th>434</th>\n",
              "      <td>bmw</td>\n",
              "      <td>4_series</td>\n",
              "      <td>2015</td>\n",
              "      <td>premium_unleaded_(required)</td>\n",
              "      <td>300.0</td>\n",
              "      <td>6.0</td>\n",
              "      <td>automatic</td>\n",
              "      <td>rear_wheel_drive</td>\n",
              "      <td>2.0</td>\n",
              "      <td>luxury,performance</td>\n",
              "      <td>midsize</td>\n",
              "      <td>convertible</td>\n",
              "      <td>31</td>\n",
              "      <td>20</td>\n",
              "      <td>3916</td>\n",
              "      <td>54900</td>\n",
              "    </tr>\n",
              "    <tr>\n",
              "      <th>1902</th>\n",
              "      <td>volkswagen</td>\n",
              "      <td>beetle</td>\n",
              "      <td>2015</td>\n",
              "      <td>premium_unleaded_(recommended)</td>\n",
              "      <td>210.0</td>\n",
              "      <td>4.0</td>\n",
              "      <td>automated_manual</td>\n",
              "      <td>front_wheel_drive</td>\n",
              "      <td>2.0</td>\n",
              "      <td>hatchback,performance</td>\n",
              "      <td>compact</td>\n",
              "      <td>2dr_hatchback</td>\n",
              "      <td>30</td>\n",
              "      <td>24</td>\n",
              "      <td>873</td>\n",
              "      <td>29215</td>\n",
              "    </tr>\n",
              "    <tr>\n",
              "      <th>9334</th>\n",
              "      <td>gmc</td>\n",
              "      <td>sierra_1500</td>\n",
              "      <td>2015</td>\n",
              "      <td>flex-fuel_(unleaded/e85)</td>\n",
              "      <td>285.0</td>\n",
              "      <td>6.0</td>\n",
              "      <td>automatic</td>\n",
              "      <td>four_wheel_drive</td>\n",
              "      <td>4.0</td>\n",
              "      <td>flex_fuel</td>\n",
              "      <td>large</td>\n",
              "      <td>extended_cab_pickup</td>\n",
              "      <td>22</td>\n",
              "      <td>17</td>\n",
              "      <td>549</td>\n",
              "      <td>34675</td>\n",
              "    </tr>\n",
              "    <tr>\n",
              "      <th>5284</th>\n",
              "      <td>rolls-royce</td>\n",
              "      <td>ghost</td>\n",
              "      <td>2014</td>\n",
              "      <td>premium_unleaded_(required)</td>\n",
              "      <td>563.0</td>\n",
              "      <td>12.0</td>\n",
              "      <td>automatic</td>\n",
              "      <td>rear_wheel_drive</td>\n",
              "      <td>4.0</td>\n",
              "      <td>exotic,luxury,performance</td>\n",
              "      <td>large</td>\n",
              "      <td>sedan</td>\n",
              "      <td>21</td>\n",
              "      <td>13</td>\n",
              "      <td>86</td>\n",
              "      <td>303300</td>\n",
              "    </tr>\n",
              "    <tr>\n",
              "      <th>2420</th>\n",
              "      <td>volkswagen</td>\n",
              "      <td>cc</td>\n",
              "      <td>2017</td>\n",
              "      <td>premium_unleaded_(recommended)</td>\n",
              "      <td>200.0</td>\n",
              "      <td>4.0</td>\n",
              "      <td>automated_manual</td>\n",
              "      <td>front_wheel_drive</td>\n",
              "      <td>4.0</td>\n",
              "      <td>performance</td>\n",
              "      <td>midsize</td>\n",
              "      <td>sedan</td>\n",
              "      <td>31</td>\n",
              "      <td>22</td>\n",
              "      <td>873</td>\n",
              "      <td>37820</td>\n",
              "    </tr>\n",
              "  </tbody>\n",
              "</table>\n",
              "<p>7150 rows × 16 columns</p>\n",
              "</div>"
            ],
            "text/plain": [
              "              make        model  year  ... city_mpg  popularity    msrp\n",
              "2735     chevrolet       cobalt  2008  ...       24        1385   14410\n",
              "6720        toyota       matrix  2012  ...       25        2031   19685\n",
              "5878        subaru      impreza  2016  ...       28         640   19795\n",
              "11190   volkswagen      vanagon  1991  ...       16         873    2000\n",
              "4554          ford        f-150  2017  ...       15        5657   56260\n",
              "...            ...          ...   ...  ...      ...         ...     ...\n",
              "434            bmw     4_series  2015  ...       20        3916   54900\n",
              "1902    volkswagen       beetle  2015  ...       24         873   29215\n",
              "9334           gmc  sierra_1500  2015  ...       17         549   34675\n",
              "5284   rolls-royce        ghost  2014  ...       13          86  303300\n",
              "2420    volkswagen           cc  2017  ...       22         873   37820\n",
              "\n",
              "[7150 rows x 16 columns]"
            ]
          },
          "metadata": {},
          "execution_count": 84
        }
      ]
    },
    {
      "cell_type": "code",
      "metadata": {
        "colab": {
          "base_uri": "https://localhost:8080/"
        },
        "id": "nhbvvHinNLBp",
        "outputId": "6bf8935d-e227-4691-f860-e81f81f0dfe6"
      },
      "source": [
        "len(df_train), len(df_val), len(df_test)"
      ],
      "execution_count": 75,
      "outputs": [
        {
          "output_type": "execute_result",
          "data": {
            "text/plain": [
              "(7150, 2382, 2382)"
            ]
          },
          "metadata": {},
          "execution_count": 75
        }
      ]
    },
    {
      "cell_type": "code",
      "metadata": {
        "id": "A9sl8WctNcBB"
      },
      "source": [
        "df_train = df_train.reset_index(drop=True)\n",
        "df_val = df_val.reset_index(drop=True)\n",
        "df_test = df_test.reset_index(drop=True)"
      ],
      "execution_count": 85,
      "outputs": []
    },
    {
      "cell_type": "code",
      "metadata": {
        "id": "tjaOVJzrN3Ng"
      },
      "source": [
        "y_train = np.log1p(df_train.msrp.values)\n",
        "y_val = np.log1p(df_val.msrp.values)\n",
        "y_test = np.log1p(df_test.msrp.values)"
      ],
      "execution_count": 86,
      "outputs": []
    },
    {
      "cell_type": "code",
      "metadata": {
        "id": "nwO02Ak-ORZn"
      },
      "source": [
        "del df_train['msrp']\n",
        "del df_val['msrp']\n",
        "del df_test['msrp']"
      ],
      "execution_count": 87,
      "outputs": []
    },
    {
      "cell_type": "markdown",
      "metadata": {
        "id": "sBDjpA22O2C6"
      },
      "source": [
        "# **Linear regression**"
      ]
    },
    {
      "cell_type": "code",
      "metadata": {
        "id": "Eu799RrGO52i"
      },
      "source": [
        ""
      ],
      "execution_count": null,
      "outputs": []
    }
  ]
}