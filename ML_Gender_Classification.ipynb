{
  "nbformat": 4,
  "nbformat_minor": 0,
  "metadata": {
    "colab": {
      "name": "ML_Gender_Classification.ipynb",
      "provenance": [],
      "collapsed_sections": [],
      "authorship_tag": "ABX9TyNd7o3R/RerHkwwfkkBn7EU",
      "include_colab_link": true
    },
    "kernelspec": {
      "name": "python3",
      "display_name": "Python 3"
    },
    "language_info": {
      "name": "python"
    }
  },
  "cells": [
    {
      "cell_type": "markdown",
      "metadata": {
        "id": "view-in-github",
        "colab_type": "text"
      },
      "source": [
        "<a href=\"https://colab.research.google.com/github/JonatanPolanco/ML_Projects/blob/main/ML_Gender_Classification.ipynb\" target=\"_parent\"><img src=\"https://colab.research.google.com/assets/colab-badge.svg\" alt=\"Open In Colab\"/></a>"
      ]
    },
    {
      "cell_type": "code",
      "execution_count": 133,
      "metadata": {
        "id": "VYi4t2sSJNeG"
      },
      "outputs": [],
      "source": [
        "import nltk\n",
        "import random\n",
        "import base64\n",
        "import requests\n",
        "import os\n",
        "import pandas as pd\n",
        "import numpy as np\n",
        "from sklearn.utils import shuffle"
      ]
    },
    {
      "cell_type": "code",
      "source": [
        "import nltk\n",
        "import os\n",
        "import random\n",
        "\n",
        "def predict_gender():\n",
        "\t#import male database and store in male_list\n",
        "\tmale_file=open(\"male.txt\",\"r\")\n",
        "\tmale_list=male_file.readlines()\n",
        "\tfor i in range(len(male_list)):\n",
        "\t\tmale_list[i]=male_list[i].replace(\"\\n\",\"\")\n",
        "\tmale_file.close()\n",
        "\n",
        "\t#import female database and store in female_list\n",
        "\tfemale_file=open(\"female.txt\",\"r\")\n",
        "\tfemale_list=female_file.readlines()\n",
        "\tfor i in range(len(female_list)):\n",
        "\t\tfemale_list[i]=female_list[i].replace(\"\\n\",\"\")\n",
        "\tfemale_file.close()\n",
        "\n",
        "\t#A tuple containing names mapped with gender\n",
        "\tlabelled_names = ([(name, 'male') for name in male_list]+[(name, 'female') for name in female_list])\n",
        "\trandom.shuffle(labelled_names)\n",
        "\n",
        "\t#function for features for the classifier\n",
        "\tdef genderFeature(name):\n",
        "\t        name=name.upper()\n",
        "\t        return {\n",
        "\t\t    'firstLetter' : name[0],\n",
        "\t\t    'first2Letters' : name[0:2],\n",
        "\t\t    'first3Letters' : name[0:3],\n",
        "\t            'lastLetter': name[-1],\n",
        "\t            'lastTwo' : name[-2:],\n",
        "\t            'lastThree': name[-3:],\n",
        "\t            'lastIsVowel' : (name[-1] in 'AEIOUY')\n",
        "\t        }\n",
        "\n",
        "\t#mapping features to the gender\n",
        "\tfeatures = [(genderFeature(name), gender) for (name, gender) in labelled_names]\n",
        "\n",
        "\t#classifying gender according to NaiveBayesClassifier\n",
        "\tclassifier = nltk.NaiveBayesClassifier.train(features)\n",
        "\n",
        "\tprint (\"Welcome to the gender predictor\")\n",
        "\tprint (\"accuracy naive bayes classifier : \", nltk.classify.accuracy(classifier, features))\n",
        "\n",
        "\twhile(1):\n",
        "\t\tname=input(\"Enter the first name or q to exit: \")\n",
        "\t\tif name==\"q\":\n",
        "\t\t\tbreak\n",
        "\t\tif len(name)<3:\n",
        "\t\t\tprint (\"name too short\")\n",
        "\t\telse:\n",
        "\t\t\tprint (classifier.classify(genderFeature(name)))\n",
        "\n",
        "\t\t#print genderFeature(name)\n",
        "\n",
        "if __name__ == \"__main__\":\n",
        "\tpredict_gender()\n"
      ],
      "metadata": {
        "colab": {
          "base_uri": "https://localhost:8080/"
        },
        "id": "aNbLsndaKapE",
        "outputId": "011d640c-d458-4711-c492-d2739469cdb1"
      },
      "execution_count": 135,
      "outputs": [
        {
          "name": "stdout",
          "output_type": "stream",
          "text": [
            "Welcome to the gender predictor\n",
            "accuracy naive bayes classifier :  0.8626463552813798\n",
            "Enter the first name or q to exit: q\n"
          ]
        }
      ]
    }
  ]
}