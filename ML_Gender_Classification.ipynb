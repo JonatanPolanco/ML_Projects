{
  "nbformat": 4,
  "nbformat_minor": 0,
  "metadata": {
    "colab": {
      "name": "ML_Gender_Classification.ipynb",
      "provenance": [],
      "collapsed_sections": [],
      "authorship_tag": "ABX9TyMoLAicHS/CKt2AX7fBzubT",
      "include_colab_link": true
    },
    "kernelspec": {
      "name": "python3",
      "display_name": "Python 3"
    },
    "language_info": {
      "name": "python"
    }
  },
  "cells": [
    {
      "cell_type": "markdown",
      "metadata": {
        "id": "view-in-github",
        "colab_type": "text"
      },
      "source": [
        "<a href=\"https://colab.research.google.com/github/JonatanPolanco/ML_Projects/blob/main/ML_Gender_Classification.ipynb\" target=\"_parent\"><img src=\"https://colab.research.google.com/assets/colab-badge.svg\" alt=\"Open In Colab\"/></a>"
      ]
    },
    {
      "cell_type": "markdown",
      "source": [
        "##Naive Bayes Gender Classifier"
      ],
      "metadata": {
        "id": "qCAwUxlKByty"
      }
    },
    {
      "cell_type": "code",
      "source": [
        "import nltk\n",
        "import os\n",
        "import random\n",
        "\n",
        "def predict_gender():\n",
        "\t#import male database and store in male_list\n",
        "\tmale_file=open(\"male.txt\",\"r\")\n",
        "\tmale_list=male_file.readlines()\n",
        "\tfor i in range(len(male_list)):\n",
        "\t\tmale_list[i]=male_list[i].replace(\"\\n\",\"\")\n",
        "\tmale_file.close()\n",
        "\n",
        "\t#import female database and store in female_list\n",
        "\tfemale_file=open(\"female.txt\",\"r\")\n",
        "\tfemale_list=female_file.readlines()\n",
        "\tfor i in range(len(female_list)):\n",
        "\t\tfemale_list[i]=female_list[i].replace(\"\\n\",\"\")\n",
        "\tfemale_file.close()\n",
        "\n",
        "\t#A tuple containing names mapped with gender\n",
        "\tlabelled_names = ([(name, 'male') for name in male_list]+[(name, 'female') for name in female_list])\n",
        "\trandom.shuffle(labelled_names)\n",
        "\n",
        "\t#function for features for the classifier\n",
        "\tdef genderFeature(name):\n",
        "\t        name=name.upper()\n",
        "\t        return {\n",
        "\t\t    'firstLetter' : name[0],\n",
        "\t\t    'first2Letters' : name[0:2],\n",
        "\t\t    'first3Letters' : name[0:3],\n",
        "\t            'lastLetter': name[-1],\n",
        "\t            'lastTwo' : name[-2:],\n",
        "\t            'lastThree': name[-3:],\n",
        "\t            'lastIsVowel' : (name[-1] in 'AEIOUY')\n",
        "\t        }\n",
        "\n",
        "\t#mapping features to the gender\n",
        "\tfeatures = [(genderFeature(name), gender) for (name, gender) in labelled_names]\n",
        "\n",
        "\t#classifying gender according to NaiveBayesClassifier\n",
        "\tclassifier = nltk.NaiveBayesClassifier.train(features)\n",
        "\n",
        "\tprint (\"Welcome to the gender predictor\")\n",
        "\tprint (\"accuracy naive bayes classifier : \", nltk.classify.accuracy(classifier, features))\n",
        "\n",
        "\twhile(1):\n",
        "\t\tname=input(\"Enter the first name or q to exit: \")\n",
        "\t\tif name==\"q\":\n",
        "\t\t\tbreak\n",
        "\t\tif len(name)<3:\n",
        "\t\t\tprint (\"name too short\")\n",
        "\t\telse:\n",
        "\t\t\tprint (classifier.classify(genderFeature(name)))\n",
        "\n",
        "\t\t#print genderFeature(name)\n",
        "\n",
        "if __name__ == \"__main__\":\n",
        "\tpredict_gender()\n"
      ],
      "metadata": {
        "colab": {
          "base_uri": "https://localhost:8080/"
        },
        "id": "aNbLsndaKapE",
        "outputId": "559b4809-6c17-4d89-fc8c-c758f001e582"
      },
      "execution_count": null,
      "outputs": [
        {
          "name": "stdout",
          "output_type": "stream",
          "text": [
            "Welcome to the gender predictor\n",
            "accuracy naive bayes classifier :  0.8626463552813798\n",
            "Enter the first name or q to exit: mabel\n",
            "female\n",
            "Enter the first name or q to exit: patricia\n",
            "female\n",
            "Enter the first name or q to exit: kevin\n",
            "male\n",
            "Enter the first name or q to exit: luis\n",
            "male\n",
            "Enter the first name or q to exit: q\n"
          ]
        }
      ]
    },
    {
      "cell_type": "markdown",
      "source": [
        "##Another Method :) Recurent Neural Networks (LSTM)"
      ],
      "metadata": {
        "id": "0XUGq3FgBjjz"
      }
    },
    {
      "cell_type": "code",
      "source": [
        "from collections import defaultdict\n",
        "import pandas as pd\n",
        "import matplotlib.pyplot as plt"
      ],
      "metadata": {
        "id": "HG3z0nQdD69o"
      },
      "execution_count": null,
      "outputs": []
    },
    {
      "cell_type": "code",
      "source": [
        "\n",
        "df = pd.read_csv('https://query.data.world/s/rsaeos3wtnfnmr3iptfpczxeyt22l4')\n",
        "df= df.dropna()\n",
        "df = df.reset_index(drop=True)\n",
        "df = df.drop(columns = 'probability')\n",
        "df = df.dropna()\n",
        "df = df.drop_duplicates()\n",
        "df.iloc[:, 0] = df.iloc[:, 0].str.upper()\n",
        "names = df.iloc[:, 0]\n",
        "gender = df.iloc[:, 1]\n",
        "df.head()"
      ],
      "metadata": {
        "colab": {
          "base_uri": "https://localhost:8080/",
          "height": 206
        },
        "id": "Qxezi4acxKeG",
        "outputId": "9040f442-efe8-4394-aa6b-316fb5049144"
      },
      "execution_count": null,
      "outputs": [
        {
          "output_type": "execute_result",
          "data": {
            "text/html": [
              "\n",
              "  <div id=\"df-62a0b95e-b1e8-4ff9-8c40-fff73d0ab53c\">\n",
              "    <div class=\"colab-df-container\">\n",
              "      <div>\n",
              "<style scoped>\n",
              "    .dataframe tbody tr th:only-of-type {\n",
              "        vertical-align: middle;\n",
              "    }\n",
              "\n",
              "    .dataframe tbody tr th {\n",
              "        vertical-align: top;\n",
              "    }\n",
              "\n",
              "    .dataframe thead th {\n",
              "        text-align: right;\n",
              "    }\n",
              "</style>\n",
              "<table border=\"1\" class=\"dataframe\">\n",
              "  <thead>\n",
              "    <tr style=\"text-align: right;\">\n",
              "      <th></th>\n",
              "      <th>name</th>\n",
              "      <th>gender</th>\n",
              "    </tr>\n",
              "  </thead>\n",
              "  <tbody>\n",
              "    <tr>\n",
              "      <th>0</th>\n",
              "      <td>AABAN</td>\n",
              "      <td>M</td>\n",
              "    </tr>\n",
              "    <tr>\n",
              "      <th>1</th>\n",
              "      <td>AABHA</td>\n",
              "      <td>F</td>\n",
              "    </tr>\n",
              "    <tr>\n",
              "      <th>2</th>\n",
              "      <td>AABID</td>\n",
              "      <td>M</td>\n",
              "    </tr>\n",
              "    <tr>\n",
              "      <th>3</th>\n",
              "      <td>AABRIELLA</td>\n",
              "      <td>F</td>\n",
              "    </tr>\n",
              "    <tr>\n",
              "      <th>4</th>\n",
              "      <td>AADA</td>\n",
              "      <td>F</td>\n",
              "    </tr>\n",
              "  </tbody>\n",
              "</table>\n",
              "</div>\n",
              "      <button class=\"colab-df-convert\" onclick=\"convertToInteractive('df-62a0b95e-b1e8-4ff9-8c40-fff73d0ab53c')\"\n",
              "              title=\"Convert this dataframe to an interactive table.\"\n",
              "              style=\"display:none;\">\n",
              "        \n",
              "  <svg xmlns=\"http://www.w3.org/2000/svg\" height=\"24px\"viewBox=\"0 0 24 24\"\n",
              "       width=\"24px\">\n",
              "    <path d=\"M0 0h24v24H0V0z\" fill=\"none\"/>\n",
              "    <path d=\"M18.56 5.44l.94 2.06.94-2.06 2.06-.94-2.06-.94-.94-2.06-.94 2.06-2.06.94zm-11 1L8.5 8.5l.94-2.06 2.06-.94-2.06-.94L8.5 2.5l-.94 2.06-2.06.94zm10 10l.94 2.06.94-2.06 2.06-.94-2.06-.94-.94-2.06-.94 2.06-2.06.94z\"/><path d=\"M17.41 7.96l-1.37-1.37c-.4-.4-.92-.59-1.43-.59-.52 0-1.04.2-1.43.59L10.3 9.45l-7.72 7.72c-.78.78-.78 2.05 0 2.83L4 21.41c.39.39.9.59 1.41.59.51 0 1.02-.2 1.41-.59l7.78-7.78 2.81-2.81c.8-.78.8-2.07 0-2.86zM5.41 20L4 18.59l7.72-7.72 1.47 1.35L5.41 20z\"/>\n",
              "  </svg>\n",
              "      </button>\n",
              "      \n",
              "  <style>\n",
              "    .colab-df-container {\n",
              "      display:flex;\n",
              "      flex-wrap:wrap;\n",
              "      gap: 12px;\n",
              "    }\n",
              "\n",
              "    .colab-df-convert {\n",
              "      background-color: #E8F0FE;\n",
              "      border: none;\n",
              "      border-radius: 50%;\n",
              "      cursor: pointer;\n",
              "      display: none;\n",
              "      fill: #1967D2;\n",
              "      height: 32px;\n",
              "      padding: 0 0 0 0;\n",
              "      width: 32px;\n",
              "    }\n",
              "\n",
              "    .colab-df-convert:hover {\n",
              "      background-color: #E2EBFA;\n",
              "      box-shadow: 0px 1px 2px rgba(60, 64, 67, 0.3), 0px 1px 3px 1px rgba(60, 64, 67, 0.15);\n",
              "      fill: #174EA6;\n",
              "    }\n",
              "\n",
              "    [theme=dark] .colab-df-convert {\n",
              "      background-color: #3B4455;\n",
              "      fill: #D2E3FC;\n",
              "    }\n",
              "\n",
              "    [theme=dark] .colab-df-convert:hover {\n",
              "      background-color: #434B5C;\n",
              "      box-shadow: 0px 1px 3px 1px rgba(0, 0, 0, 0.15);\n",
              "      filter: drop-shadow(0px 1px 2px rgba(0, 0, 0, 0.3));\n",
              "      fill: #FFFFFF;\n",
              "    }\n",
              "  </style>\n",
              "\n",
              "      <script>\n",
              "        const buttonEl =\n",
              "          document.querySelector('#df-62a0b95e-b1e8-4ff9-8c40-fff73d0ab53c button.colab-df-convert');\n",
              "        buttonEl.style.display =\n",
              "          google.colab.kernel.accessAllowed ? 'block' : 'none';\n",
              "\n",
              "        async function convertToInteractive(key) {\n",
              "          const element = document.querySelector('#df-62a0b95e-b1e8-4ff9-8c40-fff73d0ab53c');\n",
              "          const dataTable =\n",
              "            await google.colab.kernel.invokeFunction('convertToInteractive',\n",
              "                                                     [key], {});\n",
              "          if (!dataTable) return;\n",
              "\n",
              "          const docLinkHtml = 'Like what you see? Visit the ' +\n",
              "            '<a target=\"_blank\" href=https://colab.research.google.com/notebooks/data_table.ipynb>data table notebook</a>'\n",
              "            + ' to learn more about interactive tables.';\n",
              "          element.innerHTML = '';\n",
              "          dataTable['output_type'] = 'display_data';\n",
              "          await google.colab.output.renderOutput(dataTable, element);\n",
              "          const docLink = document.createElement('div');\n",
              "          docLink.innerHTML = docLinkHtml;\n",
              "          element.appendChild(docLink);\n",
              "        }\n",
              "      </script>\n",
              "    </div>\n",
              "  </div>\n",
              "  "
            ],
            "text/plain": [
              "        name gender\n",
              "0      AABAN      M\n",
              "1      AABHA      F\n",
              "2      AABID      M\n",
              "3  AABRIELLA      F\n",
              "4       AADA      F"
            ]
          },
          "metadata": {},
          "execution_count": 191
        }
      ]
    },
    {
      "cell_type": "code",
      "source": [
        "## plot distribution of data\n",
        "plt.figure(figsize=(12,8))\n",
        "plt.hist([len(a) for a in names], bins=36)\n",
        "plt.title(\"Length of the names\")\n",
        "plt.show()"
      ],
      "metadata": {
        "colab": {
          "base_uri": "https://localhost:8080/",
          "height": 499
        },
        "id": "bkSM8iGmD32F",
        "outputId": "b5448bc8-1650-44bd-b35b-251cd4d63d83"
      },
      "execution_count": null,
      "outputs": [
        {
          "output_type": "display_data",
          "data": {
            "image/png": "[encoded data removed]",
            "text/plain": [
              "<Figure size 864x576 with 1 Axes>"
            ]
          },
          "metadata": {
            "needs_background": "light"
          }
        }
      ]
    },
    {
      "cell_type": "code",
      "source": [
        "print(\"male: \"+ str(sum(gender=='M')))\n",
        "print(\"female: \"+ str(sum(gender=='F')))"
      ],
      "metadata": {
        "colab": {
          "base_uri": "https://localhost:8080/"
        },
        "id": "Xvi4HwSHFidA",
        "outputId": "5c2fc717-3905-4f9a-f6da-f7f7ed63babd"
      },
      "execution_count": null,
      "outputs": [
        {
          "output_type": "stream",
          "name": "stdout",
          "text": [
            "male: 34722\n",
            "female: 60303\n"
          ]
        }
      ]
    },
    {
      "cell_type": "code",
      "source": [
        "# Let's count all the name's letters & characters\n",
        "vocab = set(' '.join([str(i) for i in names]))\n",
        "len(vocab)"
      ],
      "metadata": {
        "colab": {
          "base_uri": "https://localhost:8080/"
        },
        "id": "-hpfrQ1SGuaf",
        "outputId": "c57d9f11-b57d-43cf-c88f-2cc81184d707"
      },
      "execution_count": null,
      "outputs": [
        {
          "output_type": "execute_result",
          "data": {
            "text/plain": [
              "27"
            ]
          },
          "metadata": {},
          "execution_count": 195
        }
      ]
    },
    {
      "cell_type": "code",
      "source": [
        "# Maps vocabulary to a numbers\n",
        "char_index = dict((c, i) for i, c in enumerate(vocab))\n",
        "char_index"
      ],
      "metadata": {
        "colab": {
          "base_uri": "https://localhost:8080/"
        },
        "id": "kKzHOb8_KEs9",
        "outputId": "066cc9b8-c7cf-49dc-e1bb-9ab3877432eb"
      },
      "execution_count": null,
      "outputs": [
        {
          "output_type": "execute_result",
          "data": {
            "text/plain": [
              "{' ': 13,\n",
              " 'A': 4,\n",
              " 'B': 24,\n",
              " 'C': 1,\n",
              " 'D': 17,\n",
              " 'E': 12,\n",
              " 'F': 7,\n",
              " 'G': 22,\n",
              " 'H': 18,\n",
              " 'I': 25,\n",
              " 'J': 16,\n",
              " 'K': 2,\n",
              " 'L': 9,\n",
              " 'M': 8,\n",
              " 'N': 0,\n",
              " 'O': 10,\n",
              " 'P': 3,\n",
              " 'Q': 15,\n",
              " 'R': 23,\n",
              " 'S': 14,\n",
              " 'T': 20,\n",
              " 'U': 21,\n",
              " 'V': 5,\n",
              " 'W': 26,\n",
              " 'X': 19,\n",
              " 'Y': 11,\n",
              " 'Z': 6}"
            ]
          },
          "metadata": {},
          "execution_count": 196
        }
      ]
    },
    {
      "cell_type": "code",
      "source": [
        "#Create the train and test set\n",
        "X=[]\n",
        "y=[]"
      ],
      "metadata": {
        "id": "Pt-C7YYUKVxk"
      },
      "execution_count": null,
      "outputs": []
    }
  ]
}